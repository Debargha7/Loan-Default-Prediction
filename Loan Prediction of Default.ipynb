{
 "cells": [
  {
   "cell_type": "markdown",
   "id": "aa2f225d",
   "metadata": {},
   "source": [
    "# Loan Prediction of Default."
   ]
  },
  {
   "cell_type": "code",
   "execution_count": 1,
   "id": "a3344001",
   "metadata": {},
   "outputs": [],
   "source": [
    "#Importing the necessary libraries\n",
    "\n",
    "import numpy as np\n",
    "import pandas as pd\n",
    "import seaborn as sns\n",
    "import matplotlib.pyplot as plt\n",
    "%matplotlib inline"
   ]
  },
  {
   "cell_type": "code",
   "execution_count": 2,
   "id": "75311b79",
   "metadata": {},
   "outputs": [
    {
     "name": "stderr",
     "output_type": "stream",
     "text": [
      "C:\\Users\\HP\\anaconda3\\lib\\site-packages\\IPython\\core\\interactiveshell.py:3165: DtypeWarning: Columns (19) have mixed types.Specify dtype option on import or set low_memory=False.\n",
      "  has_raised = await self.run_ast_nodes(code_ast.body, cell_name,\n"
     ]
    },
    {
     "data": {
      "text/html": [
       "<div>\n",
       "<style scoped>\n",
       "    .dataframe tbody tr th:only-of-type {\n",
       "        vertical-align: middle;\n",
       "    }\n",
       "\n",
       "    .dataframe tbody tr th {\n",
       "        vertical-align: top;\n",
       "    }\n",
       "\n",
       "    .dataframe thead th {\n",
       "        text-align: right;\n",
       "    }\n",
       "</style>\n",
       "<table border=\"1\" class=\"dataframe\">\n",
       "  <thead>\n",
       "    <tr style=\"text-align: right;\">\n",
       "      <th></th>\n",
       "      <th>id</th>\n",
       "      <th>member_id</th>\n",
       "      <th>loan_amnt</th>\n",
       "      <th>funded_amnt</th>\n",
       "      <th>funded_amnt_inv</th>\n",
       "      <th>term</th>\n",
       "      <th>int_rate</th>\n",
       "      <th>installment</th>\n",
       "      <th>grade</th>\n",
       "      <th>sub_grade</th>\n",
       "      <th>...</th>\n",
       "      <th>total_bal_il</th>\n",
       "      <th>il_util</th>\n",
       "      <th>open_rv_12m</th>\n",
       "      <th>open_rv_24m</th>\n",
       "      <th>max_bal_bc</th>\n",
       "      <th>all_util</th>\n",
       "      <th>total_rev_hi_lim</th>\n",
       "      <th>inq_fi</th>\n",
       "      <th>total_cu_tl</th>\n",
       "      <th>inq_last_12m</th>\n",
       "    </tr>\n",
       "  </thead>\n",
       "  <tbody>\n",
       "    <tr>\n",
       "      <th>0</th>\n",
       "      <td>1077501</td>\n",
       "      <td>1296599</td>\n",
       "      <td>5000</td>\n",
       "      <td>5000</td>\n",
       "      <td>4975.0</td>\n",
       "      <td>36 months</td>\n",
       "      <td>10.65</td>\n",
       "      <td>162.87</td>\n",
       "      <td>B</td>\n",
       "      <td>B2</td>\n",
       "      <td>...</td>\n",
       "      <td>NaN</td>\n",
       "      <td>NaN</td>\n",
       "      <td>NaN</td>\n",
       "      <td>NaN</td>\n",
       "      <td>NaN</td>\n",
       "      <td>NaN</td>\n",
       "      <td>NaN</td>\n",
       "      <td>NaN</td>\n",
       "      <td>NaN</td>\n",
       "      <td>NaN</td>\n",
       "    </tr>\n",
       "    <tr>\n",
       "      <th>1</th>\n",
       "      <td>1077430</td>\n",
       "      <td>1314167</td>\n",
       "      <td>2500</td>\n",
       "      <td>2500</td>\n",
       "      <td>2500.0</td>\n",
       "      <td>60 months</td>\n",
       "      <td>15.27</td>\n",
       "      <td>59.83</td>\n",
       "      <td>C</td>\n",
       "      <td>C4</td>\n",
       "      <td>...</td>\n",
       "      <td>NaN</td>\n",
       "      <td>NaN</td>\n",
       "      <td>NaN</td>\n",
       "      <td>NaN</td>\n",
       "      <td>NaN</td>\n",
       "      <td>NaN</td>\n",
       "      <td>NaN</td>\n",
       "      <td>NaN</td>\n",
       "      <td>NaN</td>\n",
       "      <td>NaN</td>\n",
       "    </tr>\n",
       "    <tr>\n",
       "      <th>2</th>\n",
       "      <td>1077175</td>\n",
       "      <td>1313524</td>\n",
       "      <td>2400</td>\n",
       "      <td>2400</td>\n",
       "      <td>2400.0</td>\n",
       "      <td>36 months</td>\n",
       "      <td>15.96</td>\n",
       "      <td>84.33</td>\n",
       "      <td>C</td>\n",
       "      <td>C5</td>\n",
       "      <td>...</td>\n",
       "      <td>NaN</td>\n",
       "      <td>NaN</td>\n",
       "      <td>NaN</td>\n",
       "      <td>NaN</td>\n",
       "      <td>NaN</td>\n",
       "      <td>NaN</td>\n",
       "      <td>NaN</td>\n",
       "      <td>NaN</td>\n",
       "      <td>NaN</td>\n",
       "      <td>NaN</td>\n",
       "    </tr>\n",
       "    <tr>\n",
       "      <th>3</th>\n",
       "      <td>1076863</td>\n",
       "      <td>1277178</td>\n",
       "      <td>10000</td>\n",
       "      <td>10000</td>\n",
       "      <td>10000.0</td>\n",
       "      <td>36 months</td>\n",
       "      <td>13.49</td>\n",
       "      <td>339.31</td>\n",
       "      <td>C</td>\n",
       "      <td>C1</td>\n",
       "      <td>...</td>\n",
       "      <td>NaN</td>\n",
       "      <td>NaN</td>\n",
       "      <td>NaN</td>\n",
       "      <td>NaN</td>\n",
       "      <td>NaN</td>\n",
       "      <td>NaN</td>\n",
       "      <td>NaN</td>\n",
       "      <td>NaN</td>\n",
       "      <td>NaN</td>\n",
       "      <td>NaN</td>\n",
       "    </tr>\n",
       "    <tr>\n",
       "      <th>4</th>\n",
       "      <td>1075358</td>\n",
       "      <td>1311748</td>\n",
       "      <td>3000</td>\n",
       "      <td>3000</td>\n",
       "      <td>3000.0</td>\n",
       "      <td>60 months</td>\n",
       "      <td>12.69</td>\n",
       "      <td>67.79</td>\n",
       "      <td>B</td>\n",
       "      <td>B5</td>\n",
       "      <td>...</td>\n",
       "      <td>NaN</td>\n",
       "      <td>NaN</td>\n",
       "      <td>NaN</td>\n",
       "      <td>NaN</td>\n",
       "      <td>NaN</td>\n",
       "      <td>NaN</td>\n",
       "      <td>NaN</td>\n",
       "      <td>NaN</td>\n",
       "      <td>NaN</td>\n",
       "      <td>NaN</td>\n",
       "    </tr>\n",
       "  </tbody>\n",
       "</table>\n",
       "<p>5 rows × 74 columns</p>\n",
       "</div>"
      ],
      "text/plain": [
       "        id  member_id  loan_amnt  funded_amnt  funded_amnt_inv        term  \\\n",
       "0  1077501    1296599       5000         5000           4975.0   36 months   \n",
       "1  1077430    1314167       2500         2500           2500.0   60 months   \n",
       "2  1077175    1313524       2400         2400           2400.0   36 months   \n",
       "3  1076863    1277178      10000        10000          10000.0   36 months   \n",
       "4  1075358    1311748       3000         3000           3000.0   60 months   \n",
       "\n",
       "   int_rate  installment grade sub_grade  ... total_bal_il il_util  \\\n",
       "0     10.65       162.87     B        B2  ...          NaN     NaN   \n",
       "1     15.27        59.83     C        C4  ...          NaN     NaN   \n",
       "2     15.96        84.33     C        C5  ...          NaN     NaN   \n",
       "3     13.49       339.31     C        C1  ...          NaN     NaN   \n",
       "4     12.69        67.79     B        B5  ...          NaN     NaN   \n",
       "\n",
       "  open_rv_12m  open_rv_24m max_bal_bc all_util total_rev_hi_lim inq_fi  \\\n",
       "0         NaN          NaN        NaN      NaN              NaN    NaN   \n",
       "1         NaN          NaN        NaN      NaN              NaN    NaN   \n",
       "2         NaN          NaN        NaN      NaN              NaN    NaN   \n",
       "3         NaN          NaN        NaN      NaN              NaN    NaN   \n",
       "4         NaN          NaN        NaN      NaN              NaN    NaN   \n",
       "\n",
       "  total_cu_tl inq_last_12m  \n",
       "0         NaN          NaN  \n",
       "1         NaN          NaN  \n",
       "2         NaN          NaN  \n",
       "3         NaN          NaN  \n",
       "4         NaN          NaN  \n",
       "\n",
       "[5 rows x 74 columns]"
      ]
     },
     "execution_count": 2,
     "metadata": {},
     "output_type": "execute_result"
    }
   ],
   "source": [
    "#Importing the dataset \n",
    "\n",
    "df=pd.read_csv('loan_data.csv')\n",
    "df.head()"
   ]
  },
  {
   "cell_type": "code",
   "execution_count": 3,
   "id": "1e1debd6",
   "metadata": {
    "scrolled": true
   },
   "outputs": [
    {
     "data": {
      "text/plain": [
       "id                       0\n",
       "member_id                0\n",
       "loan_amnt                0\n",
       "funded_amnt              0\n",
       "funded_amnt_inv          0\n",
       "                     ...  \n",
       "all_util            466285\n",
       "total_rev_hi_lim     70276\n",
       "inq_fi              466285\n",
       "total_cu_tl         466285\n",
       "inq_last_12m        466285\n",
       "Length: 74, dtype: int64"
      ]
     },
     "execution_count": 3,
     "metadata": {},
     "output_type": "execute_result"
    }
   ],
   "source": [
    "#Checking the presence of missing values\n",
    "\n",
    "df.isna().sum()"
   ]
  },
  {
   "cell_type": "code",
   "execution_count": 4,
   "id": "36ee94a6",
   "metadata": {},
   "outputs": [],
   "source": [
    "#Removing the columns with >50% missing values and also id,member id and url as these are not required for the analysis\n",
    "\n",
    "df.drop(columns=['tot_coll_amt', 'tot_cur_bal', 'open_acc_6m',\n",
    "       'open_il_6m', 'open_il_12m', 'open_il_24m', 'mths_since_rcnt_il',\n",
    "       'total_bal_il', 'il_util', 'open_rv_12m', 'open_rv_24m', 'max_bal_bc',\n",
    "       'all_util','inq_fi', 'total_cu_tl',\n",
    "       'inq_last_12m','annual_inc_joint', 'dti_joint', 'verification_status_joint','mths_since_last_major_derog','mths_since_last_record','next_pymnt_d','mths_since_last_delinq','desc','total_rev_hi_lim','id','member_id','url'],axis=1,inplace=True)"
   ]
  },
  {
   "cell_type": "code",
   "execution_count": 5,
   "id": "d1a7a148",
   "metadata": {},
   "outputs": [],
   "source": [
    "#Removing all the other rows with missing values present\n",
    "\n",
    "df=df.dropna()"
   ]
  },
  {
   "cell_type": "code",
   "execution_count": 6,
   "id": "314ecf23",
   "metadata": {},
   "outputs": [
    {
     "name": "stdout",
     "output_type": "stream",
     "text": [
      "<class 'pandas.core.frame.DataFrame'>\n",
      "Int64Index: 437710 entries, 1 to 466283\n",
      "Data columns (total 46 columns):\n",
      " #   Column                      Non-Null Count   Dtype  \n",
      "---  ------                      --------------   -----  \n",
      " 0   loan_amnt                   437710 non-null  int64  \n",
      " 1   funded_amnt                 437710 non-null  int64  \n",
      " 2   funded_amnt_inv             437710 non-null  float64\n",
      " 3   term                        437710 non-null  object \n",
      " 4   int_rate                    437710 non-null  float64\n",
      " 5   installment                 437710 non-null  float64\n",
      " 6   grade                       437710 non-null  object \n",
      " 7   sub_grade                   437710 non-null  object \n",
      " 8   emp_title                   437710 non-null  object \n",
      " 9   emp_length                  437710 non-null  object \n",
      " 10  home_ownership              437710 non-null  object \n",
      " 11  annual_inc                  437710 non-null  float64\n",
      " 12  verification_status         437710 non-null  object \n",
      " 13  issue_d                     437710 non-null  object \n",
      " 14  loan_status                 437710 non-null  object \n",
      " 15  pymnt_plan                  437710 non-null  object \n",
      " 16  purpose                     437710 non-null  object \n",
      " 17  title                       437710 non-null  object \n",
      " 18  zip_code                    437710 non-null  object \n",
      " 19  addr_state                  437710 non-null  object \n",
      " 20  dti                         437710 non-null  float64\n",
      " 21  delinq_2yrs                 437710 non-null  float64\n",
      " 22  earliest_cr_line            437710 non-null  object \n",
      " 23  inq_last_6mths              437710 non-null  float64\n",
      " 24  open_acc                    437710 non-null  float64\n",
      " 25  pub_rec                     437710 non-null  float64\n",
      " 26  revol_bal                   437710 non-null  int64  \n",
      " 27  revol_util                  437710 non-null  float64\n",
      " 28  total_acc                   437710 non-null  float64\n",
      " 29  initial_list_status         437710 non-null  object \n",
      " 30  out_prncp                   437710 non-null  float64\n",
      " 31  out_prncp_inv               437710 non-null  float64\n",
      " 32  total_pymnt                 437710 non-null  float64\n",
      " 33  total_pymnt_inv             437710 non-null  float64\n",
      " 34  total_rec_prncp             437710 non-null  float64\n",
      " 35  total_rec_int               437710 non-null  float64\n",
      " 36  total_rec_late_fee          437710 non-null  float64\n",
      " 37  recoveries                  437710 non-null  float64\n",
      " 38  collection_recovery_fee     437710 non-null  float64\n",
      " 39  last_pymnt_d                437710 non-null  object \n",
      " 40  last_pymnt_amnt             437710 non-null  float64\n",
      " 41  last_credit_pull_d          437710 non-null  object \n",
      " 42  collections_12_mths_ex_med  437710 non-null  float64\n",
      " 43  policy_code                 437710 non-null  int64  \n",
      " 44  application_type            437710 non-null  object \n",
      " 45  acc_now_delinq              437710 non-null  float64\n",
      "dtypes: float64(23), int64(4), object(19)\n",
      "memory usage: 157.0+ MB\n"
     ]
    }
   ],
   "source": [
    "#Information about the remaining columns of the dataset\n",
    "\n",
    "df.info()"
   ]
  },
  {
   "cell_type": "code",
   "execution_count": 7,
   "id": "aa9bcbe4",
   "metadata": {},
   "outputs": [
    {
     "data": {
      "text/plain": [
       "array(['Charged Off', 'Fully Paid', 'Current', 'Default',\n",
       "       'Late (31-120 days)', 'In Grace Period', 'Late (16-30 days)',\n",
       "       'Does not meet the credit policy. Status:Fully Paid',\n",
       "       'Does not meet the credit policy. Status:Charged Off'],\n",
       "      dtype=object)"
      ]
     },
     "execution_count": 7,
     "metadata": {},
     "output_type": "execute_result"
    }
   ],
   "source": [
    "#Checking the unique categories in target variable.\n",
    "\n",
    "df['loan_status'].unique()"
   ]
  },
  {
   "cell_type": "markdown",
   "id": "d7b9e279",
   "metadata": {},
   "source": [
    "The categories can be classified into good loans and bad loans.So the good loans are mapped as 0.Whereas the bad loans/the loans having a chance of default are mapped as 1.Thus making the target variable binary."
   ]
  },
  {
   "cell_type": "code",
   "execution_count": 8,
   "id": "838fc0cf",
   "metadata": {},
   "outputs": [
    {
     "data": {
      "text/html": [
       "<div>\n",
       "<style scoped>\n",
       "    .dataframe tbody tr th:only-of-type {\n",
       "        vertical-align: middle;\n",
       "    }\n",
       "\n",
       "    .dataframe tbody tr th {\n",
       "        vertical-align: top;\n",
       "    }\n",
       "\n",
       "    .dataframe thead th {\n",
       "        text-align: right;\n",
       "    }\n",
       "</style>\n",
       "<table border=\"1\" class=\"dataframe\">\n",
       "  <thead>\n",
       "    <tr style=\"text-align: right;\">\n",
       "      <th></th>\n",
       "      <th>loan_amnt</th>\n",
       "      <th>funded_amnt</th>\n",
       "      <th>funded_amnt_inv</th>\n",
       "      <th>term</th>\n",
       "      <th>int_rate</th>\n",
       "      <th>installment</th>\n",
       "      <th>grade</th>\n",
       "      <th>sub_grade</th>\n",
       "      <th>emp_title</th>\n",
       "      <th>emp_length</th>\n",
       "      <th>...</th>\n",
       "      <th>total_rec_late_fee</th>\n",
       "      <th>recoveries</th>\n",
       "      <th>collection_recovery_fee</th>\n",
       "      <th>last_pymnt_d</th>\n",
       "      <th>last_pymnt_amnt</th>\n",
       "      <th>last_credit_pull_d</th>\n",
       "      <th>collections_12_mths_ex_med</th>\n",
       "      <th>policy_code</th>\n",
       "      <th>application_type</th>\n",
       "      <th>acc_now_delinq</th>\n",
       "    </tr>\n",
       "  </thead>\n",
       "  <tbody>\n",
       "    <tr>\n",
       "      <th>1</th>\n",
       "      <td>2500</td>\n",
       "      <td>2500</td>\n",
       "      <td>2500.0</td>\n",
       "      <td>60 months</td>\n",
       "      <td>15.27</td>\n",
       "      <td>59.83</td>\n",
       "      <td>C</td>\n",
       "      <td>C4</td>\n",
       "      <td>Ryder</td>\n",
       "      <td>&lt; 1 year</td>\n",
       "      <td>...</td>\n",
       "      <td>0.00</td>\n",
       "      <td>117.08</td>\n",
       "      <td>1.11</td>\n",
       "      <td>Apr-13</td>\n",
       "      <td>119.66</td>\n",
       "      <td>Sep-13</td>\n",
       "      <td>0.0</td>\n",
       "      <td>1</td>\n",
       "      <td>INDIVIDUAL</td>\n",
       "      <td>0.0</td>\n",
       "    </tr>\n",
       "    <tr>\n",
       "      <th>3</th>\n",
       "      <td>10000</td>\n",
       "      <td>10000</td>\n",
       "      <td>10000.0</td>\n",
       "      <td>36 months</td>\n",
       "      <td>13.49</td>\n",
       "      <td>339.31</td>\n",
       "      <td>C</td>\n",
       "      <td>C1</td>\n",
       "      <td>AIR RESOURCES BOARD</td>\n",
       "      <td>10+ years</td>\n",
       "      <td>...</td>\n",
       "      <td>16.97</td>\n",
       "      <td>0.00</td>\n",
       "      <td>0.00</td>\n",
       "      <td>Jan-15</td>\n",
       "      <td>357.48</td>\n",
       "      <td>Jan-15</td>\n",
       "      <td>0.0</td>\n",
       "      <td>1</td>\n",
       "      <td>INDIVIDUAL</td>\n",
       "      <td>0.0</td>\n",
       "    </tr>\n",
       "    <tr>\n",
       "      <th>4</th>\n",
       "      <td>3000</td>\n",
       "      <td>3000</td>\n",
       "      <td>3000.0</td>\n",
       "      <td>60 months</td>\n",
       "      <td>12.69</td>\n",
       "      <td>67.79</td>\n",
       "      <td>B</td>\n",
       "      <td>B5</td>\n",
       "      <td>University Medical Group</td>\n",
       "      <td>1 year</td>\n",
       "      <td>...</td>\n",
       "      <td>0.00</td>\n",
       "      <td>0.00</td>\n",
       "      <td>0.00</td>\n",
       "      <td>Jan-16</td>\n",
       "      <td>67.79</td>\n",
       "      <td>Jan-16</td>\n",
       "      <td>0.0</td>\n",
       "      <td>1</td>\n",
       "      <td>INDIVIDUAL</td>\n",
       "      <td>0.0</td>\n",
       "    </tr>\n",
       "    <tr>\n",
       "      <th>5</th>\n",
       "      <td>5000</td>\n",
       "      <td>5000</td>\n",
       "      <td>5000.0</td>\n",
       "      <td>36 months</td>\n",
       "      <td>7.90</td>\n",
       "      <td>156.46</td>\n",
       "      <td>A</td>\n",
       "      <td>A4</td>\n",
       "      <td>Veolia Transportaton</td>\n",
       "      <td>3 years</td>\n",
       "      <td>...</td>\n",
       "      <td>0.00</td>\n",
       "      <td>0.00</td>\n",
       "      <td>0.00</td>\n",
       "      <td>Jan-15</td>\n",
       "      <td>161.03</td>\n",
       "      <td>Sep-15</td>\n",
       "      <td>0.0</td>\n",
       "      <td>1</td>\n",
       "      <td>INDIVIDUAL</td>\n",
       "      <td>0.0</td>\n",
       "    </tr>\n",
       "    <tr>\n",
       "      <th>6</th>\n",
       "      <td>7000</td>\n",
       "      <td>7000</td>\n",
       "      <td>7000.0</td>\n",
       "      <td>60 months</td>\n",
       "      <td>15.96</td>\n",
       "      <td>170.08</td>\n",
       "      <td>C</td>\n",
       "      <td>C5</td>\n",
       "      <td>Southern Star Photography</td>\n",
       "      <td>8 years</td>\n",
       "      <td>...</td>\n",
       "      <td>0.00</td>\n",
       "      <td>0.00</td>\n",
       "      <td>0.00</td>\n",
       "      <td>Jan-16</td>\n",
       "      <td>170.08</td>\n",
       "      <td>Jan-16</td>\n",
       "      <td>0.0</td>\n",
       "      <td>1</td>\n",
       "      <td>INDIVIDUAL</td>\n",
       "      <td>0.0</td>\n",
       "    </tr>\n",
       "  </tbody>\n",
       "</table>\n",
       "<p>5 rows × 46 columns</p>\n",
       "</div>"
      ],
      "text/plain": [
       "   loan_amnt  funded_amnt  funded_amnt_inv        term  int_rate  installment  \\\n",
       "1       2500         2500           2500.0   60 months     15.27        59.83   \n",
       "3      10000        10000          10000.0   36 months     13.49       339.31   \n",
       "4       3000         3000           3000.0   60 months     12.69        67.79   \n",
       "5       5000         5000           5000.0   36 months      7.90       156.46   \n",
       "6       7000         7000           7000.0   60 months     15.96       170.08   \n",
       "\n",
       "  grade sub_grade                  emp_title emp_length  ...  \\\n",
       "1     C        C4                      Ryder   < 1 year  ...   \n",
       "3     C        C1        AIR RESOURCES BOARD  10+ years  ...   \n",
       "4     B        B5   University Medical Group     1 year  ...   \n",
       "5     A        A4       Veolia Transportaton    3 years  ...   \n",
       "6     C        C5  Southern Star Photography    8 years  ...   \n",
       "\n",
       "  total_rec_late_fee  recoveries collection_recovery_fee last_pymnt_d  \\\n",
       "1               0.00      117.08                    1.11       Apr-13   \n",
       "3              16.97        0.00                    0.00       Jan-15   \n",
       "4               0.00        0.00                    0.00       Jan-16   \n",
       "5               0.00        0.00                    0.00       Jan-15   \n",
       "6               0.00        0.00                    0.00       Jan-16   \n",
       "\n",
       "   last_pymnt_amnt last_credit_pull_d collections_12_mths_ex_med policy_code  \\\n",
       "1           119.66             Sep-13                        0.0           1   \n",
       "3           357.48             Jan-15                        0.0           1   \n",
       "4            67.79             Jan-16                        0.0           1   \n",
       "5           161.03             Sep-15                        0.0           1   \n",
       "6           170.08             Jan-16                        0.0           1   \n",
       "\n",
       "  application_type acc_now_delinq  \n",
       "1       INDIVIDUAL            0.0  \n",
       "3       INDIVIDUAL            0.0  \n",
       "4       INDIVIDUAL            0.0  \n",
       "5       INDIVIDUAL            0.0  \n",
       "6       INDIVIDUAL            0.0  \n",
       "\n",
       "[5 rows x 46 columns]"
      ]
     },
     "execution_count": 8,
     "metadata": {},
     "output_type": "execute_result"
    }
   ],
   "source": [
    "df['loan_status']=df['loan_status'].map({'Charged Off':1, 'Fully Paid':0, 'Current':0, 'Default':1,'Late (31-120 days)':1, 'In Grace Period':1, 'Late (16-30 days)':1,'Does not meet the credit policy. Status:Fully Paid':0,'Does not meet the credit policy. Status:Charged Off':1})\n",
    "df.head()"
   ]
  },
  {
   "cell_type": "code",
   "execution_count": 9,
   "id": "6097ac31",
   "metadata": {},
   "outputs": [],
   "source": [
    "#Separating out the months from the column term.\n",
    "\n",
    "df['term_in_months']=df['term'].str.split('months').str[0]"
   ]
  },
  {
   "cell_type": "code",
   "execution_count": 10,
   "id": "d6993905",
   "metadata": {},
   "outputs": [],
   "source": [
    "#Removing the term column as it is of no more need.\n",
    "\n",
    "df.drop(columns=['term'],axis=1,inplace=True)"
   ]
  },
  {
   "cell_type": "code",
   "execution_count": 11,
   "id": "c72bfb06",
   "metadata": {},
   "outputs": [],
   "source": [
    "#Converting the datatype from string to integer.\n",
    "\n",
    "df = df.astype({\"term_in_months\": np.dtype(\"int64\")})"
   ]
  },
  {
   "cell_type": "code",
   "execution_count": 12,
   "id": "e4b584a4",
   "metadata": {},
   "outputs": [
    {
     "data": {
      "text/plain": [
       "<AxesSubplot:xlabel='term_in_months', ylabel='count'>"
      ]
     },
     "execution_count": 12,
     "metadata": {},
     "output_type": "execute_result"
    },
    {
     "data": {
      "image/png": "[encoded data removed]",
      "text/plain": [
       "<Figure size 432x288 with 1 Axes>"
      ]
     },
     "metadata": {
      "needs_background": "light"
     },
     "output_type": "display_data"
    }
   ],
   "source": [
    "sns.countplot(x='term_in_months',data=df,hue='loan_status')"
   ]
  },
  {
   "cell_type": "markdown",
   "id": "5283a605",
   "metadata": {},
   "source": [
    "We can see that the loans are either for a period of 36 or 60 months.The loans which were taken for a period of 36 months has a greater percentage of default than 60 months."
   ]
  },
  {
   "cell_type": "code",
   "execution_count": 13,
   "id": "70ee607a",
   "metadata": {},
   "outputs": [
    {
     "data": {
      "text/plain": [
       "<AxesSubplot:xlabel='grade', ylabel='count'>"
      ]
     },
     "execution_count": 13,
     "metadata": {},
     "output_type": "execute_result"
    },
    {
     "data": {
      "image/png": "[encoded data removed]",
      "text/plain": [
       "<Figure size 432x288 with 1 Axes>"
      ]
     },
     "metadata": {
      "needs_background": "light"
     },
     "output_type": "display_data"
    }
   ],
   "source": [
    "sns.countplot(x='grade',data=df,hue='loan_status')"
   ]
  },
  {
   "cell_type": "markdown",
   "id": "43240463",
   "metadata": {},
   "source": [
    "We can see that C and D LC assigned grade loans have greater chances of default than the other grades.G grade has the lowest chance."
   ]
  },
  {
   "cell_type": "code",
   "execution_count": 14,
   "id": "226e6875",
   "metadata": {},
   "outputs": [],
   "source": [
    "#Label encoding the grade categorical variable.\n",
    "\n",
    "df['grade']=df['grade'].map({'A':1,'B':2,'C':3,'D':4,'E':5,'F':6,'G':7})"
   ]
  },
  {
   "cell_type": "code",
   "execution_count": 15,
   "id": "2de37aee",
   "metadata": {},
   "outputs": [],
   "source": [
    "#Sub-grade is a subset of the grade column.So we can drop it off for the analysis.\n",
    "\n",
    "df.drop(columns=['sub_grade'],axis=1,inplace=True)"
   ]
  },
  {
   "cell_type": "code",
   "execution_count": 16,
   "id": "89e27815",
   "metadata": {},
   "outputs": [
    {
     "name": "stdout",
     "output_type": "stream",
     "text": [
      "< 1 year years in this position:\n",
      "0    0.873653\n",
      "1    0.126347\n",
      "Name: loan_status, dtype: float64\n",
      "10+ years years in this position:\n",
      "0    0.892509\n",
      "1    0.107491\n",
      "Name: loan_status, dtype: float64\n",
      "1 year years in this position:\n",
      "0    0.880489\n",
      "1    0.119511\n",
      "Name: loan_status, dtype: float64\n",
      "3 years years in this position:\n",
      "0    0.881514\n",
      "1    0.118486\n",
      "Name: loan_status, dtype: float64\n",
      "8 years years in this position:\n",
      "0    0.881603\n",
      "1    0.118397\n",
      "Name: loan_status, dtype: float64\n",
      "9 years years in this position:\n",
      "0    0.877627\n",
      "1    0.122373\n",
      "Name: loan_status, dtype: float64\n",
      "5 years years in this position:\n",
      "0    0.878316\n",
      "1    0.121684\n",
      "Name: loan_status, dtype: float64\n",
      "4 years years in this position:\n",
      "0    0.883627\n",
      "1    0.116373\n",
      "Name: loan_status, dtype: float64\n",
      "6 years years in this position:\n",
      "0    0.874655\n",
      "1    0.125345\n",
      "Name: loan_status, dtype: float64\n",
      "2 years years in this position:\n",
      "0    0.88217\n",
      "1    0.11783\n",
      "Name: loan_status, dtype: float64\n",
      "7 years years in this position:\n",
      "0    0.880359\n",
      "1    0.119641\n",
      "Name: loan_status, dtype: float64\n"
     ]
    }
   ],
   "source": [
    "for year in df.emp_length.unique():\n",
    "    print(f\"{year} years in this position:\")\n",
    "    print(f\"{df[df.emp_length == year].loan_status.value_counts(normalize=True)}\")"
   ]
  },
  {
   "cell_type": "markdown",
   "id": "102c3037",
   "metadata": {},
   "source": [
    "We can see that whatever be the length of the employment, there is no such significant difference in the chances of the loans getting defaulted."
   ]
  },
  {
   "cell_type": "code",
   "execution_count": 17,
   "id": "485a11d0",
   "metadata": {},
   "outputs": [],
   "source": [
    "#Removing the column because it is of no such significance.\n",
    "\n",
    "df.drop(columns=['emp_length'],axis=1,inplace=True)"
   ]
  },
  {
   "cell_type": "code",
   "execution_count": 18,
   "id": "e01c8415",
   "metadata": {},
   "outputs": [
    {
     "data": {
      "text/plain": [
       "<AxesSubplot:xlabel='home_ownership', ylabel='count'>"
      ]
     },
     "execution_count": 18,
     "metadata": {},
     "output_type": "execute_result"
    },
    {
     "data": {
      "image/png": "[encoded data removed]",
      "text/plain": [
       "<Figure size 432x288 with 1 Axes>"
      ]
     },
     "metadata": {
      "needs_background": "light"
     },
     "output_type": "display_data"
    }
   ],
   "source": [
    "sns.countplot(x='home_ownership',data=df,hue='loan_status')"
   ]
  },
  {
   "cell_type": "markdown",
   "id": "c9e98567",
   "metadata": {},
   "source": [
    "We can see that the home ownership status of the borrowers were rent,own and mortgage.Rent and mortgage ownership borrowers had high chances of their loans getting defaulted."
   ]
  },
  {
   "cell_type": "code",
   "execution_count": 19,
   "id": "ed447ec6",
   "metadata": {},
   "outputs": [
    {
     "data": {
      "text/plain": [
       "<AxesSubplot:xlabel='initial_list_status', ylabel='count'>"
      ]
     },
     "execution_count": 19,
     "metadata": {},
     "output_type": "execute_result"
    },
    {
     "data": {
      "image/png": "[encoded data removed]",
      "text/plain": [
       "<Figure size 432x288 with 1 Axes>"
      ]
     },
     "metadata": {
      "needs_background": "light"
     },
     "output_type": "display_data"
    }
   ],
   "source": [
    "sns.countplot(x='initial_list_status',data=df,hue='loan_status')"
   ]
  },
  {
   "cell_type": "markdown",
   "id": "ccb2c01a",
   "metadata": {},
   "source": [
    "If the initial list status of the loans are f then there are greater chances of default than w."
   ]
  },
  {
   "cell_type": "code",
   "execution_count": 20,
   "id": "61af983a",
   "metadata": {
    "scrolled": true
   },
   "outputs": [
    {
     "data": {
      "text/plain": [
       "debt_consolidation    259632\n",
       "credit_card            97508\n",
       "home_improvement       24389\n",
       "other                  21773\n",
       "major_purchase          9162\n",
       "small_business          5842\n",
       "car                     5051\n",
       "medical                 4243\n",
       "moving                  2765\n",
       "vacation                2289\n",
       "wedding                 2253\n",
       "house                   2112\n",
       "educational              374\n",
       "renewable_energy         317\n",
       "Name: purpose, dtype: int64"
      ]
     },
     "execution_count": 20,
     "metadata": {},
     "output_type": "execute_result"
    }
   ],
   "source": [
    "#Unique categories for the purposes for which the loan was taken\n",
    "\n",
    "df['purpose'].value_counts()"
   ]
  },
  {
   "cell_type": "markdown",
   "id": "56bbc434",
   "metadata": {},
   "source": [
    "It can be seen that most of the loans were taken for the purposes of debt consolidation and credit card."
   ]
  },
  {
   "cell_type": "code",
   "execution_count": 22,
   "id": "f3cccba4",
   "metadata": {},
   "outputs": [],
   "source": [
    "#There are many job titles of the borrowers.Including it means data leakage.So dropping it off.\n",
    "\n",
    "df.drop(columns=['emp_title'],axis=1,inplace=True)"
   ]
  },
  {
   "cell_type": "code",
   "execution_count": 23,
   "id": "263cb70f",
   "metadata": {},
   "outputs": [],
   "source": [
    "#It is a subset of the emp title column so droping it off too.\n",
    "\n",
    "df.drop(columns=['title'],axis=1,inplace=True)"
   ]
  },
  {
   "cell_type": "code",
   "execution_count": 24,
   "id": "172819a9",
   "metadata": {},
   "outputs": [
    {
     "data": {
      "text/plain": [
       "<AxesSubplot:xlabel='application_type', ylabel='count'>"
      ]
     },
     "execution_count": 24,
     "metadata": {},
     "output_type": "execute_result"
    },
    {
     "data": {
      "image/png": "[encoded data removed]",
      "text/plain": [
       "<Figure size 432x288 with 1 Axes>"
      ]
     },
     "metadata": {
      "needs_background": "light"
     },
     "output_type": "display_data"
    }
   ],
   "source": [
    "sns.countplot(x='application_type',data=df,hue='loan_status')"
   ]
  },
  {
   "cell_type": "markdown",
   "id": "f6a34c39",
   "metadata": {},
   "source": [
    "We can see that all the loan applications are individual types."
   ]
  },
  {
   "cell_type": "code",
   "execution_count": 25,
   "id": "67710388",
   "metadata": {},
   "outputs": [
    {
     "data": {
      "text/plain": [
       "<AxesSubplot:xlabel='verification_status', ylabel='count'>"
      ]
     },
     "execution_count": 25,
     "metadata": {},
     "output_type": "execute_result"
    },
    {
     "data": {
      "image/png": "[encoded data removed]",
      "text/plain": [
       "<Figure size 432x288 with 1 Axes>"
      ]
     },
     "metadata": {
      "needs_background": "light"
     },
     "output_type": "display_data"
    }
   ],
   "source": [
    "sns.countplot(x='verification_status',data=df,hue='loan_status')"
   ]
  },
  {
   "cell_type": "markdown",
   "id": "2d1438fb",
   "metadata": {},
   "source": [
    "The verification status of the loans are of three types.The verified status of the loans have a higher chances of default."
   ]
  },
  {
   "cell_type": "code",
   "execution_count": 26,
   "id": "ee46a9ff",
   "metadata": {},
   "outputs": [
    {
     "data": {
      "text/plain": [
       "<AxesSubplot:xlabel='pymnt_plan', ylabel='count'>"
      ]
     },
     "execution_count": 26,
     "metadata": {},
     "output_type": "execute_result"
    },
    {
     "data": {
      "image/png": "[encoded data removed]",
      "text/plain": [
       "<Figure size 432x288 with 1 Axes>"
      ]
     },
     "metadata": {
      "needs_background": "light"
     },
     "output_type": "display_data"
    }
   ],
   "source": [
    "sns.countplot(x='pymnt_plan',data=df,hue='loan_status')"
   ]
  },
  {
   "cell_type": "markdown",
   "id": "b92c54d4",
   "metadata": {},
   "source": [
    "We can see that there were no payment plans for the loans."
   ]
  },
  {
   "cell_type": "code",
   "execution_count": 27,
   "id": "0eaddb5f",
   "metadata": {},
   "outputs": [],
   "source": [
    "#Mapping the variable.\n",
    "\n",
    "df['pymnt_plan']=df['pymnt_plan'].map({'n':0,'y':1})"
   ]
  },
  {
   "cell_type": "code",
   "execution_count": 29,
   "id": "eb177817",
   "metadata": {},
   "outputs": [
    {
     "data": {
      "text/plain": [
       "<AxesSubplot:title={'center':'int_rate'}, xlabel='loan_status'>"
      ]
     },
     "execution_count": 29,
     "metadata": {},
     "output_type": "execute_result"
    },
    {
     "data": {
      "image/png": "[encoded data removed]",
      "text/plain": [
       "<Figure size 432x288 with 1 Axes>"
      ]
     },
     "metadata": {
      "needs_background": "light"
     },
     "output_type": "display_data"
    }
   ],
   "source": [
    "df.boxplot(column='int_rate',by='loan_status')"
   ]
  },
  {
   "cell_type": "markdown",
   "id": "2be590de",
   "metadata": {},
   "source": [
    "Higher rates caused greater chances of the loans to default."
   ]
  },
  {
   "cell_type": "code",
   "execution_count": 30,
   "id": "6881d5a2",
   "metadata": {},
   "outputs": [
    {
     "data": {
      "text/plain": [
       "<AxesSubplot:xlabel='annual_inc', ylabel='Count'>"
      ]
     },
     "execution_count": 30,
     "metadata": {},
     "output_type": "execute_result"
    },
    {
     "data": {
      "image/png": "[encoded data removed]",
      "text/plain": [
       "<Figure size 432x288 with 1 Axes>"
      ]
     },
     "metadata": {
      "needs_background": "light"
     },
     "output_type": "display_data"
    }
   ],
   "source": [
    "sns.histplot(df['annual_inc'],bins=3)"
   ]
  },
  {
   "cell_type": "markdown",
   "id": "881c2ac8",
   "metadata": {},
   "source": [
    "The annual incomes of the borrowers were limited to 2.5-2.6 lakhs."
   ]
  },
  {
   "cell_type": "code",
   "execution_count": 31,
   "id": "9fae8b65",
   "metadata": {},
   "outputs": [
    {
     "data": {
      "text/plain": [
       "<AxesSubplot:xlabel='open_acc', ylabel='Count'>"
      ]
     },
     "execution_count": 31,
     "metadata": {},
     "output_type": "execute_result"
    },
    {
     "data": {
      "image/png": "[encoded data removed]",
      "text/plain": [
       "<Figure size 432x288 with 1 Axes>"
      ]
     },
     "metadata": {
      "needs_background": "light"
     },
     "output_type": "display_data"
    }
   ],
   "source": [
    "sns.histplot(x='open_acc',data=df,bins=5)"
   ]
  },
  {
   "cell_type": "markdown",
   "id": "c675eebb",
   "metadata": {},
   "source": [
    "The number of open credit lines in the borrowers credit lines were maximum in the range of 2-18"
   ]
  },
  {
   "cell_type": "code",
   "execution_count": 32,
   "id": "45569df7",
   "metadata": {},
   "outputs": [
    {
     "data": {
      "text/plain": [
       "<AxesSubplot:xlabel='pub_rec', ylabel='Count'>"
      ]
     },
     "execution_count": 32,
     "metadata": {},
     "output_type": "execute_result"
    },
    {
     "data": {
      "image/png": "[encoded data removed]",
      "text/plain": [
       "<Figure size 432x288 with 1 Axes>"
      ]
     },
     "metadata": {
      "needs_background": "light"
     },
     "output_type": "display_data"
    }
   ],
   "source": [
    "sns.histplot(x='pub_rec',data=df,bins=3)"
   ]
  },
  {
   "cell_type": "markdown",
   "id": "f913d95e",
   "metadata": {},
   "source": [
    "The number of derogatory public records were in the range of 0-22 for the borrowers."
   ]
  },
  {
   "cell_type": "code",
   "execution_count": 33,
   "id": "eb9b0526",
   "metadata": {},
   "outputs": [
    {
     "data": {
      "text/plain": [
       "50"
      ]
     },
     "execution_count": 33,
     "metadata": {},
     "output_type": "execute_result"
    }
   ],
   "source": [
    "df['addr_state'].nunique()"
   ]
  },
  {
   "cell_type": "markdown",
   "id": "62f7b4ec",
   "metadata": {},
   "source": [
    "There are 50 states frm where the borrowers are."
   ]
  },
  {
   "cell_type": "code",
   "execution_count": 34,
   "id": "f0bdec0a",
   "metadata": {},
   "outputs": [
    {
     "data": {
      "text/plain": [
       "([<matplotlib.patches.Wedge at 0x23c874073a0>,\n",
       "  <matplotlib.patches.Wedge at 0x23c87407a90>,\n",
       "  <matplotlib.patches.Wedge at 0x23c8741b160>,\n",
       "  <matplotlib.patches.Wedge at 0x23c8741b7f0>,\n",
       "  <matplotlib.patches.Wedge at 0x23c8741be80>],\n",
       " [Text(0.46712198661518595, 0.995890079085379, 'CA'),\n",
       "  Text(-1.0684154975382014, 0.26170274094895823, 'NY'),\n",
       "  Text(-0.6127461229995189, -0.9135328066079831, 'TX'),\n",
       "  Text(0.513000058890637, -0.9730523827514134, 'FL'),\n",
       "  Text(1.052022686398436, -0.3213226840778881, 'IL')],\n",
       " [Text(0.2547938108810105, 0.5432127704102067, '36.04%'),\n",
       "  Text(-0.5827720895662917, 0.14274694960852266, '20.27%'),\n",
       "  Text(-0.33422515799973757, -0.49829062178617256, '18.57%'),\n",
       "  Text(0.27981821394034745, -0.5307558451371345, '15.68%'),\n",
       "  Text(0.5738305562173287, -0.17526691858793897, '9.44%')])"
      ]
     },
     "execution_count": 34,
     "metadata": {},
     "output_type": "execute_result"
    },
    {
     "data": {
      "image/png": "[encoded data removed]",
      "text/plain": [
       "<Figure size 432x288 with 1 Axes>"
      ]
     },
     "metadata": {},
     "output_type": "display_data"
    }
   ],
   "source": [
    "addrnames=df.addr_state.value_counts().index\n",
    "addrval=df.addr_state.value_counts().values\n",
    "plt.pie(addrval[:5],labels=addrnames[:5],autopct='%1.2f%%')"
   ]
  },
  {
   "cell_type": "markdown",
   "id": "b980d41b",
   "metadata": {},
   "source": [
    "Top 5 states from where the borrowers are."
   ]
  },
  {
   "cell_type": "code",
   "execution_count": 35,
   "id": "05c7e6ec",
   "metadata": {},
   "outputs": [],
   "source": [
    "df.drop(columns=['last_pymnt_d','last_credit_pull_d','earliest_cr_line','addr_state','zip_code','issue_d'],axis=1,inplace=True)"
   ]
  },
  {
   "cell_type": "markdown",
   "id": "3e822088",
   "metadata": {},
   "source": [
    "Dropping off the dates and the state and zipcode column because they are of no significance when we are predicting the probability of default."
   ]
  },
  {
   "cell_type": "code",
   "execution_count": 36,
   "id": "7da42e46",
   "metadata": {},
   "outputs": [
    {
     "name": "stdout",
     "output_type": "stream",
     "text": [
      "<class 'pandas.core.frame.DataFrame'>\n",
      "Int64Index: 437710 entries, 1 to 466283\n",
      "Data columns (total 36 columns):\n",
      " #   Column                      Non-Null Count   Dtype  \n",
      "---  ------                      --------------   -----  \n",
      " 0   loan_amnt                   437710 non-null  int64  \n",
      " 1   funded_amnt                 437710 non-null  int64  \n",
      " 2   funded_amnt_inv             437710 non-null  float64\n",
      " 3   int_rate                    437710 non-null  float64\n",
      " 4   installment                 437710 non-null  float64\n",
      " 5   grade                       437710 non-null  int64  \n",
      " 6   home_ownership              437710 non-null  object \n",
      " 7   annual_inc                  437710 non-null  float64\n",
      " 8   verification_status         437710 non-null  object \n",
      " 9   loan_status                 437710 non-null  int64  \n",
      " 10  pymnt_plan                  437710 non-null  int64  \n",
      " 11  purpose                     437710 non-null  object \n",
      " 12  dti                         437710 non-null  float64\n",
      " 13  delinq_2yrs                 437710 non-null  float64\n",
      " 14  inq_last_6mths              437710 non-null  float64\n",
      " 15  open_acc                    437710 non-null  float64\n",
      " 16  pub_rec                     437710 non-null  float64\n",
      " 17  revol_bal                   437710 non-null  int64  \n",
      " 18  revol_util                  437710 non-null  float64\n",
      " 19  total_acc                   437710 non-null  float64\n",
      " 20  initial_list_status         437710 non-null  object \n",
      " 21  out_prncp                   437710 non-null  float64\n",
      " 22  out_prncp_inv               437710 non-null  float64\n",
      " 23  total_pymnt                 437710 non-null  float64\n",
      " 24  total_pymnt_inv             437710 non-null  float64\n",
      " 25  total_rec_prncp             437710 non-null  float64\n",
      " 26  total_rec_int               437710 non-null  float64\n",
      " 27  total_rec_late_fee          437710 non-null  float64\n",
      " 28  recoveries                  437710 non-null  float64\n",
      " 29  collection_recovery_fee     437710 non-null  float64\n",
      " 30  last_pymnt_amnt             437710 non-null  float64\n",
      " 31  collections_12_mths_ex_med  437710 non-null  float64\n",
      " 32  policy_code                 437710 non-null  int64  \n",
      " 33  application_type            437710 non-null  object \n",
      " 34  acc_now_delinq              437710 non-null  float64\n",
      " 35  term_in_months              437710 non-null  int64  \n",
      "dtypes: float64(23), int64(8), object(5)\n",
      "memory usage: 139.7+ MB\n"
     ]
    }
   ],
   "source": [
    "df.info()"
   ]
  },
  {
   "cell_type": "code",
   "execution_count": 37,
   "id": "f825a28f",
   "metadata": {},
   "outputs": [],
   "source": [
    "#Removing the application type column because it is only of one type.No such significant effect.\n",
    "\n",
    "df.drop(columns=['application_type'],axis=1,inplace=True)"
   ]
  },
  {
   "cell_type": "code",
   "execution_count": 38,
   "id": "b5955c7b",
   "metadata": {},
   "outputs": [
    {
     "data": {
      "text/plain": [
       "0    386872\n",
       "1     50838\n",
       "Name: loan_status, dtype: int64"
      ]
     },
     "execution_count": 38,
     "metadata": {},
     "output_type": "execute_result"
    }
   ],
   "source": [
    "df['loan_status'].value_counts()"
   ]
  },
  {
   "cell_type": "markdown",
   "id": "dad3d76e",
   "metadata": {},
   "source": [
    "Clearly we can see that the dataset is imbalanced.Hence using pycaret library as it works well with imbalanced datasets."
   ]
  },
  {
   "cell_type": "code",
   "execution_count": 39,
   "id": "dd69979f",
   "metadata": {},
   "outputs": [],
   "source": [
    "import pycaret"
   ]
  },
  {
   "cell_type": "code",
   "execution_count": 40,
   "id": "8e4e896c",
   "metadata": {},
   "outputs": [
    {
     "data": {
      "text/html": [
       "<style  type=\"text/css\" >\n",
       "#T_0c709_row29_col1,#T_0c709_row44_col1,#T_0c709_row52_col1,#T_0c709_row58_col1{\n",
       "            background-color:  lightgreen;\n",
       "        }</style><table id=\"T_0c709_\" ><thead>    <tr>        <th class=\"blank level0\" ></th>        <th class=\"col_heading level0 col0\" >Description</th>        <th class=\"col_heading level0 col1\" >Value</th>    </tr></thead><tbody>\n",
       "                <tr>\n",
       "                        <th id=\"T_0c709_level0_row0\" class=\"row_heading level0 row0\" >0</th>\n",
       "                        <td id=\"T_0c709_row0_col0\" class=\"data row0 col0\" >session_id</td>\n",
       "                        <td id=\"T_0c709_row0_col1\" class=\"data row0 col1\" >4752</td>\n",
       "            </tr>\n",
       "            <tr>\n",
       "                        <th id=\"T_0c709_level0_row1\" class=\"row_heading level0 row1\" >1</th>\n",
       "                        <td id=\"T_0c709_row1_col0\" class=\"data row1 col0\" >Target</td>\n",
       "                        <td id=\"T_0c709_row1_col1\" class=\"data row1 col1\" >loan_status</td>\n",
       "            </tr>\n",
       "            <tr>\n",
       "                        <th id=\"T_0c709_level0_row2\" class=\"row_heading level0 row2\" >2</th>\n",
       "                        <td id=\"T_0c709_row2_col0\" class=\"data row2 col0\" >Target Type</td>\n",
       "                        <td id=\"T_0c709_row2_col1\" class=\"data row2 col1\" >Binary</td>\n",
       "            </tr>\n",
       "            <tr>\n",
       "                        <th id=\"T_0c709_level0_row3\" class=\"row_heading level0 row3\" >3</th>\n",
       "                        <td id=\"T_0c709_row3_col0\" class=\"data row3 col0\" >Label Encoded</td>\n",
       "                        <td id=\"T_0c709_row3_col1\" class=\"data row3 col1\" >None</td>\n",
       "            </tr>\n",
       "            <tr>\n",
       "                        <th id=\"T_0c709_level0_row4\" class=\"row_heading level0 row4\" >4</th>\n",
       "                        <td id=\"T_0c709_row4_col0\" class=\"data row4 col0\" >Original Data</td>\n",
       "                        <td id=\"T_0c709_row4_col1\" class=\"data row4 col1\" >(437710, 35)</td>\n",
       "            </tr>\n",
       "            <tr>\n",
       "                        <th id=\"T_0c709_level0_row5\" class=\"row_heading level0 row5\" >5</th>\n",
       "                        <td id=\"T_0c709_row5_col0\" class=\"data row5 col0\" >Missing Values</td>\n",
       "                        <td id=\"T_0c709_row5_col1\" class=\"data row5 col1\" >False</td>\n",
       "            </tr>\n",
       "            <tr>\n",
       "                        <th id=\"T_0c709_level0_row6\" class=\"row_heading level0 row6\" >6</th>\n",
       "                        <td id=\"T_0c709_row6_col0\" class=\"data row6 col0\" >Numeric Features</td>\n",
       "                        <td id=\"T_0c709_row6_col1\" class=\"data row6 col1\" >26</td>\n",
       "            </tr>\n",
       "            <tr>\n",
       "                        <th id=\"T_0c709_level0_row7\" class=\"row_heading level0 row7\" >7</th>\n",
       "                        <td id=\"T_0c709_row7_col0\" class=\"data row7 col0\" >Categorical Features</td>\n",
       "                        <td id=\"T_0c709_row7_col1\" class=\"data row7 col1\" >8</td>\n",
       "            </tr>\n",
       "            <tr>\n",
       "                        <th id=\"T_0c709_level0_row8\" class=\"row_heading level0 row8\" >8</th>\n",
       "                        <td id=\"T_0c709_row8_col0\" class=\"data row8 col0\" >Ordinal Features</td>\n",
       "                        <td id=\"T_0c709_row8_col1\" class=\"data row8 col1\" >False</td>\n",
       "            </tr>\n",
       "            <tr>\n",
       "                        <th id=\"T_0c709_level0_row9\" class=\"row_heading level0 row9\" >9</th>\n",
       "                        <td id=\"T_0c709_row9_col0\" class=\"data row9 col0\" >High Cardinality Features</td>\n",
       "                        <td id=\"T_0c709_row9_col1\" class=\"data row9 col1\" >False</td>\n",
       "            </tr>\n",
       "            <tr>\n",
       "                        <th id=\"T_0c709_level0_row10\" class=\"row_heading level0 row10\" >10</th>\n",
       "                        <td id=\"T_0c709_row10_col0\" class=\"data row10 col0\" >High Cardinality Method</td>\n",
       "                        <td id=\"T_0c709_row10_col1\" class=\"data row10 col1\" >None</td>\n",
       "            </tr>\n",
       "            <tr>\n",
       "                        <th id=\"T_0c709_level0_row11\" class=\"row_heading level0 row11\" >11</th>\n",
       "                        <td id=\"T_0c709_row11_col0\" class=\"data row11 col0\" >Transformed Train Set</td>\n",
       "                        <td id=\"T_0c709_row11_col1\" class=\"data row11 col1\" >(306396, 57)</td>\n",
       "            </tr>\n",
       "            <tr>\n",
       "                        <th id=\"T_0c709_level0_row12\" class=\"row_heading level0 row12\" >12</th>\n",
       "                        <td id=\"T_0c709_row12_col0\" class=\"data row12 col0\" >Transformed Test Set</td>\n",
       "                        <td id=\"T_0c709_row12_col1\" class=\"data row12 col1\" >(131314, 57)</td>\n",
       "            </tr>\n",
       "            <tr>\n",
       "                        <th id=\"T_0c709_level0_row13\" class=\"row_heading level0 row13\" >13</th>\n",
       "                        <td id=\"T_0c709_row13_col0\" class=\"data row13 col0\" >Shuffle Train-Test</td>\n",
       "                        <td id=\"T_0c709_row13_col1\" class=\"data row13 col1\" >True</td>\n",
       "            </tr>\n",
       "            <tr>\n",
       "                        <th id=\"T_0c709_level0_row14\" class=\"row_heading level0 row14\" >14</th>\n",
       "                        <td id=\"T_0c709_row14_col0\" class=\"data row14 col0\" >Stratify Train-Test</td>\n",
       "                        <td id=\"T_0c709_row14_col1\" class=\"data row14 col1\" >False</td>\n",
       "            </tr>\n",
       "            <tr>\n",
       "                        <th id=\"T_0c709_level0_row15\" class=\"row_heading level0 row15\" >15</th>\n",
       "                        <td id=\"T_0c709_row15_col0\" class=\"data row15 col0\" >Fold Generator</td>\n",
       "                        <td id=\"T_0c709_row15_col1\" class=\"data row15 col1\" >StratifiedKFold</td>\n",
       "            </tr>\n",
       "            <tr>\n",
       "                        <th id=\"T_0c709_level0_row16\" class=\"row_heading level0 row16\" >16</th>\n",
       "                        <td id=\"T_0c709_row16_col0\" class=\"data row16 col0\" >Fold Number</td>\n",
       "                        <td id=\"T_0c709_row16_col1\" class=\"data row16 col1\" >10</td>\n",
       "            </tr>\n",
       "            <tr>\n",
       "                        <th id=\"T_0c709_level0_row17\" class=\"row_heading level0 row17\" >17</th>\n",
       "                        <td id=\"T_0c709_row17_col0\" class=\"data row17 col0\" >CPU Jobs</td>\n",
       "                        <td id=\"T_0c709_row17_col1\" class=\"data row17 col1\" >-1</td>\n",
       "            </tr>\n",
       "            <tr>\n",
       "                        <th id=\"T_0c709_level0_row18\" class=\"row_heading level0 row18\" >18</th>\n",
       "                        <td id=\"T_0c709_row18_col0\" class=\"data row18 col0\" >Use GPU</td>\n",
       "                        <td id=\"T_0c709_row18_col1\" class=\"data row18 col1\" >False</td>\n",
       "            </tr>\n",
       "            <tr>\n",
       "                        <th id=\"T_0c709_level0_row19\" class=\"row_heading level0 row19\" >19</th>\n",
       "                        <td id=\"T_0c709_row19_col0\" class=\"data row19 col0\" >Log Experiment</td>\n",
       "                        <td id=\"T_0c709_row19_col1\" class=\"data row19 col1\" >False</td>\n",
       "            </tr>\n",
       "            <tr>\n",
       "                        <th id=\"T_0c709_level0_row20\" class=\"row_heading level0 row20\" >20</th>\n",
       "                        <td id=\"T_0c709_row20_col0\" class=\"data row20 col0\" >Experiment Name</td>\n",
       "                        <td id=\"T_0c709_row20_col1\" class=\"data row20 col1\" >clf-default-name</td>\n",
       "            </tr>\n",
       "            <tr>\n",
       "                        <th id=\"T_0c709_level0_row21\" class=\"row_heading level0 row21\" >21</th>\n",
       "                        <td id=\"T_0c709_row21_col0\" class=\"data row21 col0\" >USI</td>\n",
       "                        <td id=\"T_0c709_row21_col1\" class=\"data row21 col1\" >445e</td>\n",
       "            </tr>\n",
       "            <tr>\n",
       "                        <th id=\"T_0c709_level0_row22\" class=\"row_heading level0 row22\" >22</th>\n",
       "                        <td id=\"T_0c709_row22_col0\" class=\"data row22 col0\" >Imputation Type</td>\n",
       "                        <td id=\"T_0c709_row22_col1\" class=\"data row22 col1\" >simple</td>\n",
       "            </tr>\n",
       "            <tr>\n",
       "                        <th id=\"T_0c709_level0_row23\" class=\"row_heading level0 row23\" >23</th>\n",
       "                        <td id=\"T_0c709_row23_col0\" class=\"data row23 col0\" >Iterative Imputation Iteration</td>\n",
       "                        <td id=\"T_0c709_row23_col1\" class=\"data row23 col1\" >None</td>\n",
       "            </tr>\n",
       "            <tr>\n",
       "                        <th id=\"T_0c709_level0_row24\" class=\"row_heading level0 row24\" >24</th>\n",
       "                        <td id=\"T_0c709_row24_col0\" class=\"data row24 col0\" >Numeric Imputer</td>\n",
       "                        <td id=\"T_0c709_row24_col1\" class=\"data row24 col1\" >mean</td>\n",
       "            </tr>\n",
       "            <tr>\n",
       "                        <th id=\"T_0c709_level0_row25\" class=\"row_heading level0 row25\" >25</th>\n",
       "                        <td id=\"T_0c709_row25_col0\" class=\"data row25 col0\" >Iterative Imputation Numeric Model</td>\n",
       "                        <td id=\"T_0c709_row25_col1\" class=\"data row25 col1\" >None</td>\n",
       "            </tr>\n",
       "            <tr>\n",
       "                        <th id=\"T_0c709_level0_row26\" class=\"row_heading level0 row26\" >26</th>\n",
       "                        <td id=\"T_0c709_row26_col0\" class=\"data row26 col0\" >Categorical Imputer</td>\n",
       "                        <td id=\"T_0c709_row26_col1\" class=\"data row26 col1\" >constant</td>\n",
       "            </tr>\n",
       "            <tr>\n",
       "                        <th id=\"T_0c709_level0_row27\" class=\"row_heading level0 row27\" >27</th>\n",
       "                        <td id=\"T_0c709_row27_col0\" class=\"data row27 col0\" >Iterative Imputation Categorical Model</td>\n",
       "                        <td id=\"T_0c709_row27_col1\" class=\"data row27 col1\" >None</td>\n",
       "            </tr>\n",
       "            <tr>\n",
       "                        <th id=\"T_0c709_level0_row28\" class=\"row_heading level0 row28\" >28</th>\n",
       "                        <td id=\"T_0c709_row28_col0\" class=\"data row28 col0\" >Unknown Categoricals Handling</td>\n",
       "                        <td id=\"T_0c709_row28_col1\" class=\"data row28 col1\" >least_frequent</td>\n",
       "            </tr>\n",
       "            <tr>\n",
       "                        <th id=\"T_0c709_level0_row29\" class=\"row_heading level0 row29\" >29</th>\n",
       "                        <td id=\"T_0c709_row29_col0\" class=\"data row29 col0\" >Normalize</td>\n",
       "                        <td id=\"T_0c709_row29_col1\" class=\"data row29 col1\" >True</td>\n",
       "            </tr>\n",
       "            <tr>\n",
       "                        <th id=\"T_0c709_level0_row30\" class=\"row_heading level0 row30\" >30</th>\n",
       "                        <td id=\"T_0c709_row30_col0\" class=\"data row30 col0\" >Normalize Method</td>\n",
       "                        <td id=\"T_0c709_row30_col1\" class=\"data row30 col1\" >zscore</td>\n",
       "            </tr>\n",
       "            <tr>\n",
       "                        <th id=\"T_0c709_level0_row31\" class=\"row_heading level0 row31\" >31</th>\n",
       "                        <td id=\"T_0c709_row31_col0\" class=\"data row31 col0\" >Transformation</td>\n",
       "                        <td id=\"T_0c709_row31_col1\" class=\"data row31 col1\" >False</td>\n",
       "            </tr>\n",
       "            <tr>\n",
       "                        <th id=\"T_0c709_level0_row32\" class=\"row_heading level0 row32\" >32</th>\n",
       "                        <td id=\"T_0c709_row32_col0\" class=\"data row32 col0\" >Transformation Method</td>\n",
       "                        <td id=\"T_0c709_row32_col1\" class=\"data row32 col1\" >None</td>\n",
       "            </tr>\n",
       "            <tr>\n",
       "                        <th id=\"T_0c709_level0_row33\" class=\"row_heading level0 row33\" >33</th>\n",
       "                        <td id=\"T_0c709_row33_col0\" class=\"data row33 col0\" >PCA</td>\n",
       "                        <td id=\"T_0c709_row33_col1\" class=\"data row33 col1\" >False</td>\n",
       "            </tr>\n",
       "            <tr>\n",
       "                        <th id=\"T_0c709_level0_row34\" class=\"row_heading level0 row34\" >34</th>\n",
       "                        <td id=\"T_0c709_row34_col0\" class=\"data row34 col0\" >PCA Method</td>\n",
       "                        <td id=\"T_0c709_row34_col1\" class=\"data row34 col1\" >None</td>\n",
       "            </tr>\n",
       "            <tr>\n",
       "                        <th id=\"T_0c709_level0_row35\" class=\"row_heading level0 row35\" >35</th>\n",
       "                        <td id=\"T_0c709_row35_col0\" class=\"data row35 col0\" >PCA Components</td>\n",
       "                        <td id=\"T_0c709_row35_col1\" class=\"data row35 col1\" >None</td>\n",
       "            </tr>\n",
       "            <tr>\n",
       "                        <th id=\"T_0c709_level0_row36\" class=\"row_heading level0 row36\" >36</th>\n",
       "                        <td id=\"T_0c709_row36_col0\" class=\"data row36 col0\" >Ignore Low Variance</td>\n",
       "                        <td id=\"T_0c709_row36_col1\" class=\"data row36 col1\" >False</td>\n",
       "            </tr>\n",
       "            <tr>\n",
       "                        <th id=\"T_0c709_level0_row37\" class=\"row_heading level0 row37\" >37</th>\n",
       "                        <td id=\"T_0c709_row37_col0\" class=\"data row37 col0\" >Combine Rare Levels</td>\n",
       "                        <td id=\"T_0c709_row37_col1\" class=\"data row37 col1\" >False</td>\n",
       "            </tr>\n",
       "            <tr>\n",
       "                        <th id=\"T_0c709_level0_row38\" class=\"row_heading level0 row38\" >38</th>\n",
       "                        <td id=\"T_0c709_row38_col0\" class=\"data row38 col0\" >Rare Level Threshold</td>\n",
       "                        <td id=\"T_0c709_row38_col1\" class=\"data row38 col1\" >None</td>\n",
       "            </tr>\n",
       "            <tr>\n",
       "                        <th id=\"T_0c709_level0_row39\" class=\"row_heading level0 row39\" >39</th>\n",
       "                        <td id=\"T_0c709_row39_col0\" class=\"data row39 col0\" >Numeric Binning</td>\n",
       "                        <td id=\"T_0c709_row39_col1\" class=\"data row39 col1\" >False</td>\n",
       "            </tr>\n",
       "            <tr>\n",
       "                        <th id=\"T_0c709_level0_row40\" class=\"row_heading level0 row40\" >40</th>\n",
       "                        <td id=\"T_0c709_row40_col0\" class=\"data row40 col0\" >Remove Outliers</td>\n",
       "                        <td id=\"T_0c709_row40_col1\" class=\"data row40 col1\" >False</td>\n",
       "            </tr>\n",
       "            <tr>\n",
       "                        <th id=\"T_0c709_level0_row41\" class=\"row_heading level0 row41\" >41</th>\n",
       "                        <td id=\"T_0c709_row41_col0\" class=\"data row41 col0\" >Outliers Threshold</td>\n",
       "                        <td id=\"T_0c709_row41_col1\" class=\"data row41 col1\" >None</td>\n",
       "            </tr>\n",
       "            <tr>\n",
       "                        <th id=\"T_0c709_level0_row42\" class=\"row_heading level0 row42\" >42</th>\n",
       "                        <td id=\"T_0c709_row42_col0\" class=\"data row42 col0\" >Remove Multicollinearity</td>\n",
       "                        <td id=\"T_0c709_row42_col1\" class=\"data row42 col1\" >False</td>\n",
       "            </tr>\n",
       "            <tr>\n",
       "                        <th id=\"T_0c709_level0_row43\" class=\"row_heading level0 row43\" >43</th>\n",
       "                        <td id=\"T_0c709_row43_col0\" class=\"data row43 col0\" >Multicollinearity Threshold</td>\n",
       "                        <td id=\"T_0c709_row43_col1\" class=\"data row43 col1\" >None</td>\n",
       "            </tr>\n",
       "            <tr>\n",
       "                        <th id=\"T_0c709_level0_row44\" class=\"row_heading level0 row44\" >44</th>\n",
       "                        <td id=\"T_0c709_row44_col0\" class=\"data row44 col0\" >Remove Perfect Collinearity</td>\n",
       "                        <td id=\"T_0c709_row44_col1\" class=\"data row44 col1\" >True</td>\n",
       "            </tr>\n",
       "            <tr>\n",
       "                        <th id=\"T_0c709_level0_row45\" class=\"row_heading level0 row45\" >45</th>\n",
       "                        <td id=\"T_0c709_row45_col0\" class=\"data row45 col0\" >Clustering</td>\n",
       "                        <td id=\"T_0c709_row45_col1\" class=\"data row45 col1\" >False</td>\n",
       "            </tr>\n",
       "            <tr>\n",
       "                        <th id=\"T_0c709_level0_row46\" class=\"row_heading level0 row46\" >46</th>\n",
       "                        <td id=\"T_0c709_row46_col0\" class=\"data row46 col0\" >Clustering Iteration</td>\n",
       "                        <td id=\"T_0c709_row46_col1\" class=\"data row46 col1\" >None</td>\n",
       "            </tr>\n",
       "            <tr>\n",
       "                        <th id=\"T_0c709_level0_row47\" class=\"row_heading level0 row47\" >47</th>\n",
       "                        <td id=\"T_0c709_row47_col0\" class=\"data row47 col0\" >Polynomial Features</td>\n",
       "                        <td id=\"T_0c709_row47_col1\" class=\"data row47 col1\" >False</td>\n",
       "            </tr>\n",
       "            <tr>\n",
       "                        <th id=\"T_0c709_level0_row48\" class=\"row_heading level0 row48\" >48</th>\n",
       "                        <td id=\"T_0c709_row48_col0\" class=\"data row48 col0\" >Polynomial Degree</td>\n",
       "                        <td id=\"T_0c709_row48_col1\" class=\"data row48 col1\" >None</td>\n",
       "            </tr>\n",
       "            <tr>\n",
       "                        <th id=\"T_0c709_level0_row49\" class=\"row_heading level0 row49\" >49</th>\n",
       "                        <td id=\"T_0c709_row49_col0\" class=\"data row49 col0\" >Trignometry Features</td>\n",
       "                        <td id=\"T_0c709_row49_col1\" class=\"data row49 col1\" >False</td>\n",
       "            </tr>\n",
       "            <tr>\n",
       "                        <th id=\"T_0c709_level0_row50\" class=\"row_heading level0 row50\" >50</th>\n",
       "                        <td id=\"T_0c709_row50_col0\" class=\"data row50 col0\" >Polynomial Threshold</td>\n",
       "                        <td id=\"T_0c709_row50_col1\" class=\"data row50 col1\" >None</td>\n",
       "            </tr>\n",
       "            <tr>\n",
       "                        <th id=\"T_0c709_level0_row51\" class=\"row_heading level0 row51\" >51</th>\n",
       "                        <td id=\"T_0c709_row51_col0\" class=\"data row51 col0\" >Group Features</td>\n",
       "                        <td id=\"T_0c709_row51_col1\" class=\"data row51 col1\" >False</td>\n",
       "            </tr>\n",
       "            <tr>\n",
       "                        <th id=\"T_0c709_level0_row52\" class=\"row_heading level0 row52\" >52</th>\n",
       "                        <td id=\"T_0c709_row52_col0\" class=\"data row52 col0\" >Feature Selection</td>\n",
       "                        <td id=\"T_0c709_row52_col1\" class=\"data row52 col1\" >True</td>\n",
       "            </tr>\n",
       "            <tr>\n",
       "                        <th id=\"T_0c709_level0_row53\" class=\"row_heading level0 row53\" >53</th>\n",
       "                        <td id=\"T_0c709_row53_col0\" class=\"data row53 col0\" >Feature Selection Method</td>\n",
       "                        <td id=\"T_0c709_row53_col1\" class=\"data row53 col1\" >classic</td>\n",
       "            </tr>\n",
       "            <tr>\n",
       "                        <th id=\"T_0c709_level0_row54\" class=\"row_heading level0 row54\" >54</th>\n",
       "                        <td id=\"T_0c709_row54_col0\" class=\"data row54 col0\" >Features Selection Threshold</td>\n",
       "                        <td id=\"T_0c709_row54_col1\" class=\"data row54 col1\" >0.800000</td>\n",
       "            </tr>\n",
       "            <tr>\n",
       "                        <th id=\"T_0c709_level0_row55\" class=\"row_heading level0 row55\" >55</th>\n",
       "                        <td id=\"T_0c709_row55_col0\" class=\"data row55 col0\" >Feature Interaction</td>\n",
       "                        <td id=\"T_0c709_row55_col1\" class=\"data row55 col1\" >False</td>\n",
       "            </tr>\n",
       "            <tr>\n",
       "                        <th id=\"T_0c709_level0_row56\" class=\"row_heading level0 row56\" >56</th>\n",
       "                        <td id=\"T_0c709_row56_col0\" class=\"data row56 col0\" >Feature Ratio</td>\n",
       "                        <td id=\"T_0c709_row56_col1\" class=\"data row56 col1\" >False</td>\n",
       "            </tr>\n",
       "            <tr>\n",
       "                        <th id=\"T_0c709_level0_row57\" class=\"row_heading level0 row57\" >57</th>\n",
       "                        <td id=\"T_0c709_row57_col0\" class=\"data row57 col0\" >Interaction Threshold</td>\n",
       "                        <td id=\"T_0c709_row57_col1\" class=\"data row57 col1\" >None</td>\n",
       "            </tr>\n",
       "            <tr>\n",
       "                        <th id=\"T_0c709_level0_row58\" class=\"row_heading level0 row58\" >58</th>\n",
       "                        <td id=\"T_0c709_row58_col0\" class=\"data row58 col0\" >Fix Imbalance</td>\n",
       "                        <td id=\"T_0c709_row58_col1\" class=\"data row58 col1\" >True</td>\n",
       "            </tr>\n",
       "            <tr>\n",
       "                        <th id=\"T_0c709_level0_row59\" class=\"row_heading level0 row59\" >59</th>\n",
       "                        <td id=\"T_0c709_row59_col0\" class=\"data row59 col0\" >Fix Imbalance Method</td>\n",
       "                        <td id=\"T_0c709_row59_col1\" class=\"data row59 col1\" >SMOTE</td>\n",
       "            </tr>\n",
       "    </tbody></table>"
      ],
      "text/plain": [
       "<pandas.io.formats.style.Styler at 0x23d143b1e80>"
      ]
     },
     "metadata": {},
     "output_type": "display_data"
    }
   ],
   "source": [
    "#Scaling the data as well as selecting the important features and also fixing the imbalance of the dataset.\n",
    "\n",
    "from pycaret.classification import *\n",
    "clfi=setup(data=df,target='loan_status',normalize=True,feature_selection=True,fix_imbalance=True)"
   ]
  },
  {
   "cell_type": "code",
   "execution_count": 42,
   "id": "2edd5166",
   "metadata": {},
   "outputs": [
    {
     "data": {
      "text/html": [
       "<style  type=\"text/css\" >\n",
       "    #T_8d90b_ th {\n",
       "          text-align: left;\n",
       "    }#T_8d90b_row0_col0,#T_8d90b_row0_col3,#T_8d90b_row1_col0,#T_8d90b_row1_col1,#T_8d90b_row1_col2,#T_8d90b_row1_col3,#T_8d90b_row1_col4,#T_8d90b_row1_col5,#T_8d90b_row1_col6,#T_8d90b_row1_col7,#T_8d90b_row2_col0,#T_8d90b_row2_col1,#T_8d90b_row2_col2,#T_8d90b_row2_col3,#T_8d90b_row2_col4,#T_8d90b_row2_col5,#T_8d90b_row2_col6,#T_8d90b_row2_col7,#T_8d90b_row3_col0,#T_8d90b_row3_col1,#T_8d90b_row3_col2,#T_8d90b_row3_col3,#T_8d90b_row3_col4,#T_8d90b_row3_col5,#T_8d90b_row3_col6,#T_8d90b_row3_col7,#T_8d90b_row4_col0,#T_8d90b_row4_col1,#T_8d90b_row4_col2,#T_8d90b_row4_col4,#T_8d90b_row4_col5,#T_8d90b_row4_col6,#T_8d90b_row4_col7,#T_8d90b_row5_col0,#T_8d90b_row5_col1,#T_8d90b_row5_col2,#T_8d90b_row5_col3,#T_8d90b_row5_col4,#T_8d90b_row5_col5,#T_8d90b_row5_col6,#T_8d90b_row5_col7{\n",
       "            text-align:  left;\n",
       "            text-align:  left;\n",
       "        }#T_8d90b_row0_col1,#T_8d90b_row0_col2,#T_8d90b_row0_col4,#T_8d90b_row0_col5,#T_8d90b_row0_col6,#T_8d90b_row0_col7,#T_8d90b_row4_col3{\n",
       "            text-align:  left;\n",
       "            text-align:  left;\n",
       "            background-color:  yellow;\n",
       "        }#T_8d90b_row0_col8,#T_8d90b_row1_col8,#T_8d90b_row2_col8,#T_8d90b_row3_col8,#T_8d90b_row4_col8{\n",
       "            text-align:  left;\n",
       "            text-align:  left;\n",
       "            background-color:  lightgrey;\n",
       "        }#T_8d90b_row5_col8{\n",
       "            text-align:  left;\n",
       "            text-align:  left;\n",
       "            background-color:  yellow;\n",
       "            background-color:  lightgrey;\n",
       "        }</style><table id=\"T_8d90b_\" ><thead>    <tr>        <th class=\"blank level0\" ></th>        <th class=\"col_heading level0 col0\" >Model</th>        <th class=\"col_heading level0 col1\" >Accuracy</th>        <th class=\"col_heading level0 col2\" >AUC</th>        <th class=\"col_heading level0 col3\" >Recall</th>        <th class=\"col_heading level0 col4\" >Prec.</th>        <th class=\"col_heading level0 col5\" >F1</th>        <th class=\"col_heading level0 col6\" >Kappa</th>        <th class=\"col_heading level0 col7\" >MCC</th>        <th class=\"col_heading level0 col8\" >TT (Sec)</th>    </tr></thead><tbody>\n",
       "                <tr>\n",
       "                        <th id=\"T_8d90b_level0_row0\" class=\"row_heading level0 row0\" >xgboost</th>\n",
       "                        <td id=\"T_8d90b_row0_col0\" class=\"data row0 col0\" >Extreme Gradient Boosting</td>\n",
       "                        <td id=\"T_8d90b_row0_col1\" class=\"data row0 col1\" >0.9757</td>\n",
       "                        <td id=\"T_8d90b_row0_col2\" class=\"data row0 col2\" >0.9673</td>\n",
       "                        <td id=\"T_8d90b_row0_col3\" class=\"data row0 col3\" >0.7990</td>\n",
       "                        <td id=\"T_8d90b_row0_col4\" class=\"data row0 col4\" >0.9882</td>\n",
       "                        <td id=\"T_8d90b_row0_col5\" class=\"data row0 col5\" >0.8836</td>\n",
       "                        <td id=\"T_8d90b_row0_col6\" class=\"data row0 col6\" >0.8702</td>\n",
       "                        <td id=\"T_8d90b_row0_col7\" class=\"data row0 col7\" >0.8763</td>\n",
       "                        <td id=\"T_8d90b_row0_col8\" class=\"data row0 col8\" >236.8460</td>\n",
       "            </tr>\n",
       "            <tr>\n",
       "                        <th id=\"T_8d90b_level0_row1\" class=\"row_heading level0 row1\" >rf</th>\n",
       "                        <td id=\"T_8d90b_row1_col0\" class=\"data row1 col0\" >Random Forest Classifier</td>\n",
       "                        <td id=\"T_8d90b_row1_col1\" class=\"data row1 col1\" >0.9734</td>\n",
       "                        <td id=\"T_8d90b_row1_col2\" class=\"data row1 col2\" >0.9635</td>\n",
       "                        <td id=\"T_8d90b_row1_col3\" class=\"data row1 col3\" >0.7894</td>\n",
       "                        <td id=\"T_8d90b_row1_col4\" class=\"data row1 col4\" >0.9755</td>\n",
       "                        <td id=\"T_8d90b_row1_col5\" class=\"data row1 col5\" >0.8726</td>\n",
       "                        <td id=\"T_8d90b_row1_col6\" class=\"data row1 col6\" >0.8579</td>\n",
       "                        <td id=\"T_8d90b_row1_col7\" class=\"data row1 col7\" >0.8640</td>\n",
       "                        <td id=\"T_8d90b_row1_col8\" class=\"data row1 col8\" >422.2370</td>\n",
       "            </tr>\n",
       "            <tr>\n",
       "                        <th id=\"T_8d90b_level0_row2\" class=\"row_heading level0 row2\" >svm</th>\n",
       "                        <td id=\"T_8d90b_row2_col0\" class=\"data row2 col0\" >SVM - Linear Kernel</td>\n",
       "                        <td id=\"T_8d90b_row2_col1\" class=\"data row2 col1\" >0.9676</td>\n",
       "                        <td id=\"T_8d90b_row2_col2\" class=\"data row2 col2\" >0.0000</td>\n",
       "                        <td id=\"T_8d90b_row2_col3\" class=\"data row2 col3\" >0.7933</td>\n",
       "                        <td id=\"T_8d90b_row2_col4\" class=\"data row2 col4\" >0.9147</td>\n",
       "                        <td id=\"T_8d90b_row2_col5\" class=\"data row2 col5\" >0.8496</td>\n",
       "                        <td id=\"T_8d90b_row2_col6\" class=\"data row2 col6\" >0.8315</td>\n",
       "                        <td id=\"T_8d90b_row2_col7\" class=\"data row2 col7\" >0.8342</td>\n",
       "                        <td id=\"T_8d90b_row2_col8\" class=\"data row2 col8\" >56.3150</td>\n",
       "            </tr>\n",
       "            <tr>\n",
       "                        <th id=\"T_8d90b_level0_row3\" class=\"row_heading level0 row3\" >lr</th>\n",
       "                        <td id=\"T_8d90b_row3_col0\" class=\"data row3 col0\" >Logistic Regression</td>\n",
       "                        <td id=\"T_8d90b_row3_col1\" class=\"data row3 col1\" >0.9612</td>\n",
       "                        <td id=\"T_8d90b_row3_col2\" class=\"data row3 col2\" >0.9594</td>\n",
       "                        <td id=\"T_8d90b_row3_col3\" class=\"data row3 col3\" >0.8094</td>\n",
       "                        <td id=\"T_8d90b_row3_col4\" class=\"data row3 col4\" >0.8481</td>\n",
       "                        <td id=\"T_8d90b_row3_col5\" class=\"data row3 col5\" >0.8283</td>\n",
       "                        <td id=\"T_8d90b_row3_col6\" class=\"data row3 col6\" >0.8064</td>\n",
       "                        <td id=\"T_8d90b_row3_col7\" class=\"data row3 col7\" >0.8067</td>\n",
       "                        <td id=\"T_8d90b_row3_col8\" class=\"data row3 col8\" >98.2700</td>\n",
       "            </tr>\n",
       "            <tr>\n",
       "                        <th id=\"T_8d90b_level0_row4\" class=\"row_heading level0 row4\" >dt</th>\n",
       "                        <td id=\"T_8d90b_row4_col0\" class=\"data row4 col0\" >Decision Tree Classifier</td>\n",
       "                        <td id=\"T_8d90b_row4_col1\" class=\"data row4 col1\" >0.9442</td>\n",
       "                        <td id=\"T_8d90b_row4_col2\" class=\"data row4 col2\" >0.8889</td>\n",
       "                        <td id=\"T_8d90b_row4_col3\" class=\"data row4 col3\" >0.8169</td>\n",
       "                        <td id=\"T_8d90b_row4_col4\" class=\"data row4 col4\" >0.7315</td>\n",
       "                        <td id=\"T_8d90b_row4_col5\" class=\"data row4 col5\" >0.7718</td>\n",
       "                        <td id=\"T_8d90b_row4_col6\" class=\"data row4 col6\" >0.7401</td>\n",
       "                        <td id=\"T_8d90b_row4_col7\" class=\"data row4 col7\" >0.7416</td>\n",
       "                        <td id=\"T_8d90b_row4_col8\" class=\"data row4 col8\" >63.4400</td>\n",
       "            </tr>\n",
       "            <tr>\n",
       "                        <th id=\"T_8d90b_level0_row5\" class=\"row_heading level0 row5\" >nb</th>\n",
       "                        <td id=\"T_8d90b_row5_col0\" class=\"data row5 col0\" >Naive Bayes</td>\n",
       "                        <td id=\"T_8d90b_row5_col1\" class=\"data row5 col1\" >0.9264</td>\n",
       "                        <td id=\"T_8d90b_row5_col2\" class=\"data row5 col2\" >0.8833</td>\n",
       "                        <td id=\"T_8d90b_row5_col3\" class=\"data row5 col3\" >0.5048</td>\n",
       "                        <td id=\"T_8d90b_row5_col4\" class=\"data row5 col4\" >0.7810</td>\n",
       "                        <td id=\"T_8d90b_row5_col5\" class=\"data row5 col5\" >0.6131</td>\n",
       "                        <td id=\"T_8d90b_row5_col6\" class=\"data row5 col6\" >0.5744</td>\n",
       "                        <td id=\"T_8d90b_row5_col7\" class=\"data row5 col7\" >0.5913</td>\n",
       "                        <td id=\"T_8d90b_row5_col8\" class=\"data row5 col8\" >56.1970</td>\n",
       "            </tr>\n",
       "    </tbody></table>"
      ],
      "text/plain": [
       "<pandas.io.formats.style.Styler at 0x23c8000d9d0>"
      ]
     },
     "metadata": {},
     "output_type": "display_data"
    }
   ],
   "source": [
    "best=compare_models(['rf','lr','xgboost','dt','svm','nb'])"
   ]
  },
  {
   "cell_type": "markdown",
   "id": "e8d55cba",
   "metadata": {},
   "source": [
    "We can see that xgboost model works best for the dataset.We cant take accuracy as the required metric so we consider f1 score kappa score precision and recall .Considering the scores,we can use the xgboost model.We can also check if we can increase the figures of the metrics by selecting some more features which i have not considered or by hyopertuning.The AUC score is also high for the xgboost model."
   ]
  },
  {
   "cell_type": "markdown",
   "id": "e88ff3e9",
   "metadata": {},
   "source": [
    "We can also assign credit scores to the borrowers on the basis of the dates they are paying the loans rom the date of borrow.We can also assign it on the basis of the loan status, which is the target variable as i had categoried it into bad loans and good loans where i had considered the bad loans to default."
   ]
  },
  {
   "cell_type": "code",
   "execution_count": null,
   "id": "edb9972b",
   "metadata": {},
   "outputs": [],
   "source": []
  }
 ],
 "metadata": {
  "kernelspec": {
   "display_name": "Python 3",
   "language": "python",
   "name": "python3"
  },
  "language_info": {
   "codemirror_mode": {
    "name": "ipython",
    "version": 3
   },
   "file_extension": ".py",
   "mimetype": "text/x-python",
   "name": "python",
   "nbconvert_exporter": "python",
   "pygments_lexer": "ipython3",
   "version": "3.8.8"
  }
 },
 "nbformat": 4,
 "nbformat_minor": 5
}
